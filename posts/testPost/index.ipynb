{
  "cells": [
    {
      "cell_type": "raw",
      "metadata": {},
      "source": [
        "---\n",
        "title: Chapter 1 – The Machine Learning landscape\n",
        "format: html\n",
        "---"
      ],
      "id": "a2cf4b0e"
    },
    {
      "cell_type": "markdown",
      "metadata": {},
      "source": [
        "# Chapter 1 – The Machine Learning Landscape\n",
        "\n",
        "This is an embedded version of the Jupyter Notebook.\n",
        "\n",
        "<!-- ```{python}\n",
        "#| echo: false\n",
        "#| output: asis\n",
        "# import nbformat\n",
        "# import nbconvert\n",
        "\n",
        "# # Load the Jupyter Notebook\n",
        "# notebook_path = '/Users/zimingfang/Desktop/Fall 23 Classes/CS 5805/handson-ml3/01_the_machine_learning_landscape.ipynb'\n",
        "# with open(notebook_path, 'r', encoding='utf-8') as file:\n",
        "#     notebook = nbformat.read(file, as_version=4)\n",
        "\n",
        "# # Convert to markdown\n",
        "# exporter = nbconvert.MarkdownExporter()\n",
        "# body, resources = exporter.from_notebook_node(notebook)\n",
        "\n",
        "# print(body) -->"
      ],
      "id": "83d7c33a"
    }
  ],
  "metadata": {
    "kernelspec": {
      "display_name": "Python 3",
      "language": "python",
      "name": "python3"
    }
  },
  "nbformat": 4,
  "nbformat_minor": 5
}